{
 "cells": [
  {
   "cell_type": "code",
   "execution_count": 2,
   "metadata": {},
   "outputs": [],
   "source": [
    "import pandas as pd"
   ]
  },
  {
   "cell_type": "code",
   "execution_count": 3,
   "metadata": {},
   "outputs": [],
   "source": [
    "test_case = pd.read_excel(r\"C:\\Users\\Puja\\Downloads\\Book4.xlsx\")"
   ]
  },
  {
   "cell_type": "code",
   "execution_count": 3,
   "metadata": {},
   "outputs": [
    {
     "data": {
      "text/html": [
       "<div>\n",
       "<style scoped>\n",
       "    .dataframe tbody tr th:only-of-type {\n",
       "        vertical-align: middle;\n",
       "    }\n",
       "\n",
       "    .dataframe tbody tr th {\n",
       "        vertical-align: top;\n",
       "    }\n",
       "\n",
       "    .dataframe thead th {\n",
       "        text-align: right;\n",
       "    }\n",
       "</style>\n",
       "<table border=\"1\" class=\"dataframe\">\n",
       "  <thead>\n",
       "    <tr style=\"text-align: right;\">\n",
       "      <th></th>\n",
       "      <th>name</th>\n",
       "      <th>xmin</th>\n",
       "      <th>ymin</th>\n",
       "      <th>xmax</th>\n",
       "      <th>ymax</th>\n",
       "    </tr>\n",
       "  </thead>\n",
       "  <tbody>\n",
       "    <tr>\n",
       "      <td>0</td>\n",
       "      <td>1</td>\n",
       "      <td>230</td>\n",
       "      <td>70</td>\n",
       "      <td>277</td>\n",
       "      <td>121</td>\n",
       "    </tr>\n",
       "    <tr>\n",
       "      <td>1</td>\n",
       "      <td>1</td>\n",
       "      <td>145</td>\n",
       "      <td>24</td>\n",
       "      <td>174</td>\n",
       "      <td>64</td>\n",
       "    </tr>\n",
       "    <tr>\n",
       "      <td>2</td>\n",
       "      <td>2</td>\n",
       "      <td>174</td>\n",
       "      <td>22</td>\n",
       "      <td>216</td>\n",
       "      <td>64</td>\n",
       "    </tr>\n",
       "    <tr>\n",
       "      <td>3</td>\n",
       "      <td>5</td>\n",
       "      <td>104</td>\n",
       "      <td>75</td>\n",
       "      <td>164</td>\n",
       "      <td>124</td>\n",
       "    </tr>\n",
       "    <tr>\n",
       "      <td>4</td>\n",
       "      <td>6</td>\n",
       "      <td>168</td>\n",
       "      <td>71</td>\n",
       "      <td>229</td>\n",
       "      <td>121</td>\n",
       "    </tr>\n",
       "    <tr>\n",
       "      <td>5</td>\n",
       "      <td>9</td>\n",
       "      <td>38</td>\n",
       "      <td>80</td>\n",
       "      <td>101</td>\n",
       "      <td>124</td>\n",
       "    </tr>\n",
       "    <tr>\n",
       "      <td>6</td>\n",
       "      <td>G</td>\n",
       "      <td>228</td>\n",
       "      <td>18</td>\n",
       "      <td>276</td>\n",
       "      <td>61</td>\n",
       "    </tr>\n",
       "    <tr>\n",
       "      <td>7</td>\n",
       "      <td>H</td>\n",
       "      <td>84</td>\n",
       "      <td>26</td>\n",
       "      <td>128</td>\n",
       "      <td>69</td>\n",
       "    </tr>\n",
       "    <tr>\n",
       "      <td>8</td>\n",
       "      <td>J</td>\n",
       "      <td>45</td>\n",
       "      <td>28</td>\n",
       "      <td>82</td>\n",
       "      <td>70</td>\n",
       "    </tr>\n",
       "  </tbody>\n",
       "</table>\n",
       "</div>"
      ],
      "text/plain": [
       "  name  xmin  ymin  xmax  ymax\n",
       "0    1   230    70   277   121\n",
       "1    1   145    24   174    64\n",
       "2    2   174    22   216    64\n",
       "3    5   104    75   164   124\n",
       "4    6   168    71   229   121\n",
       "5    9    38    80   101   124\n",
       "6    G   228    18   276    61\n",
       "7    H    84    26   128    69\n",
       "8    J    45    28    82    70"
      ]
     },
     "execution_count": 3,
     "metadata": {},
     "output_type": "execute_result"
    }
   ],
   "source": [
    "#dataframe for testing the code\n",
    "test_case"
   ]
  },
  {
   "cell_type": "code",
   "execution_count": 4,
   "metadata": {},
   "outputs": [],
   "source": [
    "example_list = []\n",
    "for i in range(len(test_case)):\n",
    "    example_list.append(list(test_case.iloc[i].values))"
   ]
  },
  {
   "cell_type": "code",
   "execution_count": 5,
   "metadata": {},
   "outputs": [
    {
     "data": {
      "text/plain": [
       "[['1', 230, 70, 277, 121],\n",
       " ['1', 145, 24, 174, 64],\n",
       " ['2', 174, 22, 216, 64],\n",
       " ['5', 104, 75, 164, 124],\n",
       " ['6', 168, 71, 229, 121],\n",
       " ['9', 38, 80, 101, 124],\n",
       " ['G', 228, 18, 276, 61],\n",
       " ['H', 84, 26, 128, 69],\n",
       " ['J', 45, 28, 82, 70]]"
      ]
     },
     "execution_count": 5,
     "metadata": {},
     "output_type": "execute_result"
    }
   ],
   "source": [
    "#in list of lists form to feed to the function made below\n",
    "example_list"
   ]
  },
  {
   "cell_type": "code",
   "execution_count": 6,
   "metadata": {},
   "outputs": [],
   "source": [
    "#required fn. with correct plate sequence \n",
    "#the input format taken as a list of lists\n",
    "#1st elements of the lists are the characters returned by the obj detection model in that order\n",
    "#next four elements are the bounding box dimensions (xmin, ymin, xmax, ymax) of the respective chars\n",
    "def corr_seq(b_box_list):\n",
    "    y_min_list = []\n",
    "    upper_col_chars = []\n",
    "    lower_col_chars = []\n",
    "    for items in b_box_list:\n",
    "        y_min_list.append(items[2])\n",
    "    min_ymin = min(y_min_list)\n",
    "    max_ymin = max(y_min_list)\n",
    "    for items in b_box_list:\n",
    "        if (min_ymin + 14 > items[2]):\n",
    "            upper_col_chars.append(items)\n",
    "        else:\n",
    "            lower_col_chars.append(items)\n",
    "    return cor_seq_line(upper_col_chars) + cor_seq_line(lower_col_chars)"
   ]
  },
  {
   "cell_type": "code",
   "execution_count": 7,
   "metadata": {},
   "outputs": [],
   "source": [
    "#function to return correct sequence of characters which are in one line\n",
    "def cor_seq_line(list_list_chars):\n",
    "    string = ''\n",
    "    x_min_list = []\n",
    "    for ele in list_list_chars:\n",
    "        x_min_list.append(ele[1])\n",
    "    list1 = sorted(x_min_list)\n",
    "    for i in list1:\n",
    "        indx = x_min_list.index(i)\n",
    "        string += list_list_chars[indx][0]\n",
    "    return string\n",
    "    "
   ]
  },
  {
   "cell_type": "code",
   "execution_count": 8,
   "metadata": {},
   "outputs": [
    {
     "name": "stdout",
     "output_type": "stream",
     "text": [
      "Correct sequence of the characters on number plate : JH12G9561\n"
     ]
    }
   ],
   "source": [
    "print('Correct sequence of the characters on number plate :',corr_seq(example_list))"
   ]
  }
 ],
 "metadata": {
  "kernelspec": {
   "display_name": "Python 3",
   "language": "python",
   "name": "python3"
  },
  "language_info": {
   "codemirror_mode": {
    "name": "ipython",
    "version": 3
   },
   "file_extension": ".py",
   "mimetype": "text/x-python",
   "name": "python",
   "nbconvert_exporter": "python",
   "pygments_lexer": "ipython3",
   "version": "3.7.4"
  }
 },
 "nbformat": 4,
 "nbformat_minor": 2
}
