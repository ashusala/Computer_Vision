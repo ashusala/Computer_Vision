{
 "cells": [
  {
   "cell_type": "code",
   "execution_count": 342,
   "metadata": {},
   "outputs": [],
   "source": [
    "import numpy as np\n",
    "import pandas as pd\n",
    "import matplotlib.pyplot as plt\n",
    "import cv2"
   ]
  },
  {
   "cell_type": "code",
   "execution_count": 343,
   "metadata": {},
   "outputs": [],
   "source": [
    "img = cv2.imread(r\"images\\test5.png\")\n",
    "img_gray = cv2.imread(r\"images\\test5.png\",0)"
   ]
  },
  {
   "cell_type": "code",
   "execution_count": 344,
   "metadata": {},
   "outputs": [],
   "source": [
    "def findHorizontalLines(img):\n",
    "    \n",
    "    #convert image to greyscale\n",
    "    gray = cv2.cvtColor(img,cv2.COLOR_BGR2GRAY)\n",
    "    \n",
    "    # set threshold to remove background noise\n",
    "    thresh = cv2.threshold(gray, 0, 255, cv2.THRESH_BINARY_INV + cv2.THRESH_OTSU)[1]\n",
    "    \n",
    "    kernel = np.ones((3,3),np.uint8)\n",
    "    dilate = cv2.dilate(thresh, kernel, iterations=1)\n",
    "    \n",
    "    # define rectangle structure (line) to look for: width 100, hight 1. This is a \n",
    "    horizontal_kernel = cv2.getStructuringElement(cv2.MORPH_RECT, (70,1))\n",
    "    \n",
    "    # Find horizontal lines\n",
    "    lineLocations = cv2.morphologyEx(dilate, cv2.MORPH_OPEN, horizontal_kernel, iterations=1)\n",
    "    \n",
    "    kernel1 = np.ones((3,3),np.uint8)\n",
    "    erosion = cv2.erode(lineLocations,kernel1,iterations = 1)\n",
    "    \n",
    "    return erosion"
   ]
  },
  {
   "cell_type": "code",
   "execution_count": 345,
   "metadata": {},
   "outputs": [
    {
     "data": {
      "text/plain": [
       "(247, 524)"
      ]
     },
     "execution_count": 345,
     "metadata": {},
     "output_type": "execute_result"
    }
   ],
   "source": [
    "lineLocations = findHorizontalLines(img)\n",
    "lineLocations.shape"
   ]
  },
  {
   "cell_type": "code",
   "execution_count": 346,
   "metadata": {
    "scrolled": true
   },
   "outputs": [
    {
     "data": {
      "text/plain": [
       "<matplotlib.image.AxesImage at 0x1cd63109208>"
      ]
     },
     "execution_count": 346,
     "metadata": {},
     "output_type": "execute_result"
    },
    {
     "data": {
      "image/png": "[encoded data removed]",
      "text/plain": [
       "<Figure size 1728x1728 with 1 Axes>"
      ]
     },
     "metadata": {
      "needs_background": "light"
     },
     "output_type": "display_data"
    }
   ],
   "source": [
    "plt.figure(figsize=(24,24))\n",
    "plt.imshow(lineLocations, cmap='Greys')"
   ]
  },
  {
   "cell_type": "code",
   "execution_count": 347,
   "metadata": {},
   "outputs": [],
   "source": [
    "df_lineLocations = pd.DataFrame(lineLocations.sum(axis=1)).reset_index()\n",
    "df_lineLocations.columns = ['rowLoc', 'LineLength']\n",
    "df = df_lineLocations[df_lineLocations['LineLength'] > 0]"
   ]
  },
  {
   "cell_type": "code",
   "execution_count": 348,
   "metadata": {},
   "outputs": [],
   "source": [
    "lineLocations = lineLocations/255"
   ]
  },
  {
   "cell_type": "code",
   "execution_count": 349,
   "metadata": {},
   "outputs": [],
   "source": [
    "def col_st(row):\n",
    "    for i in range (lineLocations.shape[1]):\n",
    "        if lineLocations[row,i]==1:\n",
    "            return i"
   ]
  },
  {
   "cell_type": "code",
   "execution_count": 350,
   "metadata": {},
   "outputs": [],
   "source": [
    "def mask(row):\n",
    "    kernel = np.zeros(lineLocations.shape)\n",
    "    col_start = col_st(row)\n",
    "    length = int(df.loc[row][1]/255)\n",
    "    col_end = col_start+length\n",
    "    kernel[row-20:row+5,col_start:col_end-1]=1\n",
    "    return kernel"
   ]
  },
  {
   "cell_type": "code",
   "execution_count": 351,
   "metadata": {},
   "outputs": [],
   "source": [
    "def mask_n_crop(img_gray):\n",
    "    list_images = []\n",
    "    for i in df.index:\n",
    "        col_start = col_st(i)\n",
    "        length = int(df.loc[i][1]/255)\n",
    "        col_end = col_start+length\n",
    "        image = mask(i) * img_gray/255\n",
    "        im = image[i-20:i+5,col_start:col_end-1]    \n",
    "        img = (im * 255).astype(np.uint8)\n",
    "        list_images.append(img)\n",
    "    return list_images"
   ]
  },
  {
   "cell_type": "code",
   "execution_count": 352,
   "metadata": {},
   "outputs": [
    {
     "data": {
      "text/plain": [
       "(25, 406)"
      ]
     },
     "execution_count": 352,
     "metadata": {},
     "output_type": "execute_result"
    }
   ],
   "source": [
    "li = mask_n_crop(img_gray)\n",
    "li[9].shape"
   ]
  },
  {
   "cell_type": "code",
   "execution_count": 354,
   "metadata": {},
   "outputs": [],
   "source": [
    "def remove_line(gray):\n",
    "    thresh = cv2.threshold(gray, 0, 255, cv2.THRESH_BINARY_INV + cv2.THRESH_OTSU)[1]\n",
    "\n",
    "    # Remove horizontal\n",
    "    horizontal_kernel = cv2.getStructuringElement(cv2.MORPH_RECT, (25,1))\n",
    "    detected_lines = cv2.morphologyEx(thresh, cv2.MORPH_OPEN, horizontal_kernel, iterations=2)\n",
    "    cnts = cv2.findContours(detected_lines, cv2.RETR_EXTERNAL, cv2.CHAIN_APPROX_SIMPLE)\n",
    "    cnts = cnts[0] if len(cnts) == 2 else cnts[1]\n",
    "    for c in cnts:\n",
    "        cv2.drawContours(gray, [c], -1, (255,255,255), 2)\n",
    "\n",
    "    # Repair image\n",
    "    repair_kernel = cv2.getStructuringElement(cv2.MORPH_RECT, (1,6))\n",
    "    result = 255 - cv2.morphologyEx(255 - gray, cv2.MORPH_CLOSE, repair_kernel, iterations=1)\n",
    "    \n",
    "    #make the image binary\n",
    "    f = 255 * (np.round(result/255).astype(np.uint8))\n",
    "    \n",
    "    return f"
   ]
  },
  {
   "cell_type": "code",
   "execution_count": 413,
   "metadata": {},
   "outputs": [],
   "source": [
    "cv2.imshow(\"img\",remove_line(li[6]))\n",
    "cv2.waitKey(0)\n",
    "cv2.destroyAllWindows()"
   ]
  },
  {
   "cell_type": "code",
   "execution_count": 442,
   "metadata": {},
   "outputs": [],
   "source": [
    "def contour(img_gray):\n",
    "\n",
    "    img_ = remove_line(img_gray)\n",
    "    thresh1 = cv2.threshold(img_, 0, 255,cv2.THRESH_OTSU|cv2.THRESH_BINARY_INV)[1]\n",
    "    rect_kernel = cv2.getStructuringElement(cv2.MORPH_RECT, (5, 4))\n",
    "    dilation = cv2.dilate(thresh1, rect_kernel, iterations = 1)\n",
    "    \n",
    "    contours, hierarchy = cv2.findContours(dilation, cv2.RETR_EXTERNAL, cv2.CHAIN_APPROX_NONE)\n",
    "    \n",
    "    word_imgs = []\n",
    "    \n",
    "    im2 = img_.copy()\n",
    "    for cnt in contours:\n",
    "        x, y, w, h = cv2.boundingRect(cnt)\n",
    "        \n",
    "        img = im2[y:y+h,x:x+w]\n",
    "        \n",
    "        scale_percent = 200 # percent of original size\n",
    "        width = int(img.shape[1] * scale_percent / 100)\n",
    "        height = int(img.shape[0] * scale_percent / 100)\n",
    "        dim = (width, height)\n",
    "\n",
    "        # resize image\n",
    "        resized = cv2.resize(img, dim, interpolation = cv2.INTER_CUBIC)\n",
    "        \n",
    "        word_imgs.append(resized)\n",
    "        \n",
    "    return word_imgs"
   ]
  },
  {
   "cell_type": "code",
   "execution_count": 448,
   "metadata": {},
   "outputs": [],
   "source": [
    "words = contour(li[9])"
   ]
  },
  {
   "cell_type": "code",
   "execution_count": 454,
   "metadata": {},
   "outputs": [],
   "source": [
    "cv2.imshow(\"img\",words[4])\n",
    "cv2.waitKey(0)\n",
    "cv2.destroyAllWindows()"
   ]
  },
  {
   "cell_type": "code",
   "execution_count": 460,
   "metadata": {},
   "outputs": [],
   "source": [
    "def fun(line_img):\n",
    "    line = ''\n",
    "    if line_img.shape[0] == 0:\n",
    "        return 0\n",
    "    words = contour(line_img)\n",
    "    key = len(words)\n",
    "    di = {key:words}\n",
    "    while key>0:\n",
    "        line += service(words[key]) + \" \"\n",
    "        key-=1\n",
    "    return line"
   ]
  },
  {
   "cell_type": "code",
   "execution_count": 458,
   "metadata": {},
   "outputs": [
    {
     "data": {
      "text/plain": [
       "3"
      ]
     },
     "execution_count": 458,
     "metadata": {},
     "output_type": "execute_result"
    }
   ],
   "source": [
    "len(fun(li[6])[3])"
   ]
  },
  {
   "cell_type": "code",
   "execution_count": 431,
   "metadata": {},
   "outputs": [],
   "source": [
    "thisdict = {\n",
    "  \"brand\": \"Ford\",\n",
    "  \"model\": \"Mustang\",\n",
    "  \"year\": 1964\n",
    "}"
   ]
  },
  {
   "cell_type": "code",
   "execution_count": 434,
   "metadata": {},
   "outputs": [
    {
     "data": {
      "text/plain": [
       "'Ford'"
      ]
     },
     "execution_count": 434,
     "metadata": {},
     "output_type": "execute_result"
    }
   ],
   "source": [
    "thisdict['brand']"
   ]
  },
  {
   "cell_type": "code",
   "execution_count": null,
   "metadata": {},
   "outputs": [],
   "source": []
  }
 ],
 "metadata": {
  "kernelspec": {
   "display_name": "Python 3",
   "language": "python",
   "name": "python3"
  },
  "language_info": {
   "codemirror_mode": {
    "name": "ipython",
    "version": 3
   },
   "file_extension": ".py",
   "mimetype": "text/x-python",
   "name": "python",
   "nbconvert_exporter": "python",
   "pygments_lexer": "ipython3",
   "version": "3.7.4"
  }
 },
 "nbformat": 4,
 "nbformat_minor": 2
}
