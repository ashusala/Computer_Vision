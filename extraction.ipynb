{
 "cells": [
  {
   "cell_type": "code",
   "execution_count": 163,
   "metadata": {},
   "outputs": [],
   "source": [
    "import numpy as np\n",
    "import pandas as pd\n",
    "import matplotlib.pyplot as plt\n",
    "import cv2"
   ]
  },
  {
   "cell_type": "code",
   "execution_count": 164,
   "metadata": {},
   "outputs": [],
   "source": [
    "img = cv2.imread(r\"test_images\\test5.png\")"
   ]
  },
  {
   "cell_type": "code",
   "execution_count": 165,
   "metadata": {},
   "outputs": [],
   "source": [
    "def img2gray(img):\n",
    "    gray = cv2.cvtColor(img,cv2.COLOR_BGR2GRAY)\n",
    "    return gray"
   ]
  },
  {
   "cell_type": "code",
   "execution_count": 166,
   "metadata": {},
   "outputs": [],
   "source": [
    "def findHorizontalLines(img):\n",
    "\n",
    "    gray = img2gray(img)\n",
    "    \n",
    "    # set threshold to remove background noise\n",
    "    thresh = cv2.threshold(gray, 0, 255, cv2.THRESH_BINARY_INV + cv2.THRESH_OTSU)[1]\n",
    "    \n",
    "    kernel = np.ones((3,3),np.uint8)\n",
    "    dilate = cv2.dilate(thresh, kernel, iterations=1)\n",
    "    \n",
    "    # define rectangle structure (line) to look for: width 100, hight 1. This is a \n",
    "    horizontal_kernel = cv2.getStructuringElement(cv2.MORPH_RECT, (70,1))\n",
    "    \n",
    "    # Find horizontal lines\n",
    "    lineLocations = cv2.morphologyEx(dilate, cv2.MORPH_OPEN, horizontal_kernel, iterations=1)\n",
    "    \n",
    "    kernel1 = np.ones((3,3),np.uint8)\n",
    "    erosion = cv2.erode(lineLocations,kernel1,iterations = 1)\n",
    "    \n",
    "    return erosion"
   ]
  },
  {
   "cell_type": "code",
   "execution_count": 167,
   "metadata": {},
   "outputs": [],
   "source": [
    "def dataframe(img):\n",
    "    lineLocations = (findHorizontalLines(img)/255).astype(np.uint8)\n",
    "    df_lineLocations = pd.DataFrame(lineLocations.sum(axis=1)).reset_index()\n",
    "    df_lineLocations.columns = ['rowLoc', 'LineLength']\n",
    "    df = df_lineLocations[df_lineLocations['LineLength'] > 0]\n",
    "    \n",
    "    return df,lineLocations"
   ]
  },
  {
   "cell_type": "code",
   "execution_count": 169,
   "metadata": {},
   "outputs": [],
   "source": [
    "def col_st(img):\n",
    "    df,lineLocations = dataframe(img)\n",
    "    col_st_list = []\n",
    "    for i in df.index:\n",
    "        for j in range (lineLocations.shape[1]):\n",
    "            if lineLocations[i,j]==1:\n",
    "                col_st_list.append(j)\n",
    "                break\n",
    "    return col_st_list"
   ]
  },
  {
   "cell_type": "code",
   "execution_count": 171,
   "metadata": {},
   "outputs": [],
   "source": [
    "def mask_n_crop(img):\n",
    "    img_gray = img2gray(img)\n",
    "    df, linelocations = dataframe(img)\n",
    "    col_st_list = col_st(img)\n",
    "    list_cropped = []\n",
    "    for i in range(len(df)):\n",
    "        row = df.iloc[i][0]\n",
    "        col_start = col_st_list[i]\n",
    "        length =  df.iloc[i][1]\n",
    "        col_end = col_start + length\n",
    "        list_cropped.append(img_gray[row-20:row+5,col_start:col_end-1])\n",
    "    return list_cropped"
   ]
  },
  {
   "cell_type": "code",
   "execution_count": 172,
   "metadata": {},
   "outputs": [],
   "source": [
    "def remove_line(img):\n",
    "    list_cropped_imgs = mask_n_crop(img)\n",
    "    \n",
    "    lines_removed = []\n",
    "    \n",
    "    for gray in list_cropped_imgs:\n",
    "        if (gray.shape[0] != 0):\n",
    "            \n",
    "            thresh = cv2.threshold(gray, 0, 255, cv2.THRESH_BINARY_INV + cv2.THRESH_OTSU)[1]\n",
    "\n",
    "            # Remove horizontal\n",
    "            horizontal_kernel = cv2.getStructuringElement(cv2.MORPH_RECT, (25,1))\n",
    "            detected_lines = cv2.morphologyEx(thresh, cv2.MORPH_OPEN, horizontal_kernel, iterations=2)\n",
    "            cnts = cv2.findContours(detected_lines, cv2.RETR_EXTERNAL, cv2.CHAIN_APPROX_SIMPLE)\n",
    "            cnts = cnts[0] if len(cnts) == 2 else cnts[1]\n",
    "            for c in cnts:\n",
    "                cv2.drawContours(gray, [c], -1, (255,255,255), 2)\n",
    "\n",
    "            # Repair image\n",
    "            repair_kernel = cv2.getStructuringElement(cv2.MORPH_RECT, (1,6))\n",
    "            result = 255 - cv2.morphologyEx(255 - gray, cv2.MORPH_CLOSE, repair_kernel, iterations=1)\n",
    "\n",
    "            #make the image binary\n",
    "            f = 255 * (np.round(result/255).astype(np.uint8))\n",
    "            \n",
    "            lines_removed.append(f)\n",
    "    \n",
    "    return lines_removed"
   ]
  },
  {
   "cell_type": "code",
   "execution_count": 194,
   "metadata": {},
   "outputs": [],
   "source": [
    "# cv2.imshow(\"img\",contour(img)[6][4])\n",
    "# cv2.waitKey(0)\n",
    "# cv2.destroyAllWindows()"
   ]
  },
  {
   "cell_type": "code",
   "execution_count": 181,
   "metadata": {},
   "outputs": [],
   "source": [
    "def contour(img):\n",
    "    lines_removed = remove_line(img)\n",
    "\n",
    "    list_contours = []\n",
    "    \n",
    "    for img_ in lines_removed:\n",
    "        thresh1 = cv2.threshold(img_, 0, 255,cv2.THRESH_OTSU|cv2.THRESH_BINARY_INV)[1]\n",
    "        rect_kernel = cv2.getStructuringElement(cv2.MORPH_RECT, (5, 4))\n",
    "        dilation = cv2.dilate(thresh1, rect_kernel, iterations = 1)\n",
    "\n",
    "        contours, hierarchy = cv2.findContours(dilation, cv2.RETR_EXTERNAL, cv2.CHAIN_APPROX_NONE)\n",
    "\n",
    "        word_imgs = []\n",
    "\n",
    "        im2 = img_.copy()\n",
    "        for cnt in contours:\n",
    "            x, y, w, h = cv2.boundingRect(cnt)\n",
    "\n",
    "            img = im2[y:y+h,x:x+w]\n",
    "\n",
    "            scale_percent = 200 # percent of original size\n",
    "            width = int(img.shape[1] * scale_percent / 100)\n",
    "            height = int(img.shape[0] * scale_percent / 100)\n",
    "            dim = (width, height)\n",
    "\n",
    "            # resize image\n",
    "            resized = cv2.resize(img, dim, interpolation = cv2.INTER_CUBIC)\n",
    "\n",
    "            word_imgs.append(resized)\n",
    "        list_contours.append(word_imgs)\n",
    "        \n",
    "    return list_contours"
   ]
  },
  {
   "cell_type": "code",
   "execution_count": 195,
   "metadata": {},
   "outputs": [],
   "source": [
    "# def fun(line_img):\n",
    "#     line = ''\n",
    "#     if line_img.shape[0] == 0:\n",
    "#         return 0\n",
    "#     words = contour(line_img)\n",
    "#     key = len(words)\n",
    "#     di = {key:words}\n",
    "#     while key>0:\n",
    "#         line += service(words[key]) + \" \"\n",
    "#         key-=1\n",
    "#     return line"
   ]
  },
  {
   "cell_type": "code",
   "execution_count": 206,
   "metadata": {},
   "outputs": [],
   "source": [
    "def fun(img):\n",
    "    list_contours = contour(img)\n",
    "    list1 = []\n",
    "    for i in range(len(list_contours)):\n",
    "        line = ''\n",
    "        for j in range(len(list_contours[i])-1,-1,-1):\n",
    "            line += service(list_contours[i][j]) + \" \"\n",
    "        list1.append(line)\n",
    "    return list1"
   ]
  },
  {
   "cell_type": "code",
   "execution_count": null,
   "metadata": {},
   "outputs": [],
   "source": []
  }
 ],
 "metadata": {
  "kernelspec": {
   "display_name": "Python 3",
   "language": "python",
   "name": "python3"
  },
  "language_info": {
   "codemirror_mode": {
    "name": "ipython",
    "version": 3
   },
   "file_extension": ".py",
   "mimetype": "text/x-python",
   "name": "python",
   "nbconvert_exporter": "python",
   "pygments_lexer": "ipython3",
   "version": "3.7.4"
  }
 },
 "nbformat": 4,
 "nbformat_minor": 2
}
